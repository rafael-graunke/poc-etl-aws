{
	"cells": [
		{
			"cell_type": "markdown",
			"metadata": {
				"editable": true,
				"trusted": true
			},
			"source": [
				"# Processo de ETL\n",
				"### Transformação de Dados Usando PySpark\n",
				"---"
			]
		},
		{
			"cell_type": "markdown",
			"metadata": {
				"editable": true,
				"trusted": true
			},
			"source": [
				"### Inicializa sessão.\n"
			]
		},
		{
			"cell_type": "code",
			"execution_count": null,
			"metadata": {
				"editable": true,
				"trusted": true,
				"vscode": {
					"languageId": "python_glue_session"
				}
			},
			"outputs": [],
			"source": [
				"%idle_timeout 2880\n",
				"%glue_version 4.0\n",
				"%worker_type G.1X\n",
				"%number_of_workers 5\n",
				"\n",
				"import sys\n",
				"from awsglue.transforms import *\n",
				"from awsglue.utils import getResolvedOptions\n",
				"from pyspark.context import SparkContext\n",
				"from awsglue.context import GlueContext\n",
				"from awsglue.job import Job\n",
				"\n",
				"\n",
				"args = getResolvedOptions(sys.argv, [\"JOB_NAME\"])\n",
				"sc = SparkContext.getOrCreate()\n",
				"glueContext = GlueContext(sc)\n",
				"spark = glueContext.spark_session\n",
				"job = Job(glueContext)\n",
				"job.init(args[\"JOB_NAME\"], args)"
			]
		},
		{
			"cell_type": "markdown",
			"metadata": {
				"editable": true,
				"trusted": true
			},
			"source": [
				"### Cria um DynamicFrame e converte para DF do PySpark\n",
				"DynamicFrame é criado a partir de um catálogo do Glue."
			]
		},
		{
			"cell_type": "code",
			"execution_count": null,
			"metadata": {
				"editable": true,
				"trusted": true,
				"vscode": {
					"languageId": "python_glue_session"
				}
			},
			"outputs": [],
			"source": [
				"dyf = glueContext.create_dynamic_frame.from_catalog(database='wecode-db', table_name='raw')\n",
				"df = dyf.toDF()"
			]
		},
		{
			"cell_type": "markdown",
			"metadata": {
				"editable": true,
				"trusted": true
			},
			"source": [
				"### Executa transformações necessárias nos dados\n"
			]
		},
		{
			"cell_type": "code",
			"execution_count": null,
			"metadata": {
				"editable": true,
				"trusted": true,
				"vscode": {
					"languageId": "python_glue_session"
				}
			},
			"outputs": [],
			"source": [
				"from pyspark.sql.functions import last, first, count, split\n",
				"\n",
				"df = df.withColumn(\"username\", split(df[\"email\"], \"@\").getItem(0))\\\n",
				"    .groupBy(\"postId\")\\\n",
				"    .agg(\n",
				"        count(\"*\").alias(\"count_mensagens\"),\n",
				"        last(\"body\").alias(\"ultima_mensagem\"),\n",
				"        first(\"username\").alias(\"username\")\n",
				"    )"
			]
		},
		{
			"cell_type": "markdown",
			"metadata": {
				"editable": true,
				"trusted": true
			},
			"source": [
				"### Envia dados transformados para S3\n"
			]
		},
		{
			"cell_type": "code",
			"execution_count": null,
			"metadata": {
				"editable": true,
				"trusted": true,
				"vscode": {
					"languageId": "python_glue_session"
				}
			},
			"outputs": [],
			"source": [
				"from awsglue.dynamicframe import DynamicFrame\n",
				"\n",
				"DyF = DynamicFrame.fromDF(df, glueContext, \"parsed_df\")"
			]
		},
		{
			"cell_type": "code",
			"execution_count": null,
			"metadata": {
				"trusted": true,
				"vscode": {
					"languageId": "python_glue_session"
				}
			},
			"outputs": [],
			"source": [
				"S3bucket_node3 = glueContext.write_dynamic_frame.from_options(\n",
				"    frame=DyF,\n",
				"    connection_type=\"s3\",\n",
				"    format=\"csv\",\n",
				"    connection_options={\n",
				"        \"path\": \"s3://teste-wecode/parsed/\",\n",
				"        \"partitionKeys\": [],\n",
				"    },\n",
				"    transformation_ctx=\"S3bucket_node3\",\n",
				")\n"
			]
		},
		{
			"cell_type": "code",
			"execution_count": null,
			"metadata": {
				"trusted": true,
				"vscode": {
					"languageId": "python_glue_session"
				}
			},
			"outputs": [],
			"source": [
				"job.commit()"
			]
		}
	],
	"metadata": {
		"kernelspec": {
			"display_name": "Glue PySpark",
			"language": "python",
			"name": "glue_pyspark"
		},
		"language_info": {
			"codemirror_mode": {
				"name": "python",
				"version": 3
			},
			"file_extension": ".py",
			"mimetype": "text/x-python",
			"name": "Python_Glue_Session",
			"pygments_lexer": "python3"
		}
	},
	"nbformat": 4,
	"nbformat_minor": 4
}
